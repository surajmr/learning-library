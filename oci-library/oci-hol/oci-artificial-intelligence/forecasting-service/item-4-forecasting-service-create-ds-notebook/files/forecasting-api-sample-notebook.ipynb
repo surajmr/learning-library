{
 "cells": [
  {
   "cell_type": "code",
   "execution_count": 252,
   "id": "6f0609c2",
   "metadata": {},
   "outputs": [],
   "source": [
    "import pandas as pd\n",
    "import requests\n",
    "import json\n",
    "import ast\n",
    "import matplotlib.pyplot as plt\n",
    "import re\n",
    "import os\n",
    "import simplejson\n",
    "import plotly.express as px\n",
    "import plotly.graph_objects as go\n",
    "from oci.signer import Signer"
   ]
  },
  {
   "cell_type": "markdown",
   "id": "9fff8209",
   "metadata": {},
   "source": [
    "### OCI Data Science - Useful Tips\n",
    "<details>\n",
    "<summary><font size=\"2\">Check for Public Internet Access</font></summary>\n",
    "\n",
    "```python\n",
    "import requests\n",
    "response = requests.get(\"https://oracle.com\")\n",
    "assert response.status_code==200, \"Internet connection failed\"\n",
    "```\n",
    "</details>\n",
    "<details>\n",
    "<summary><font size=\"2\">Helpful Documentation </font></summary>\n",
    "<ul><li><a href=\"https://docs.cloud.oracle.com/en-us/iaas/data-science/using/data-science.htm\">Data Science Service Documentation</a></li>\n",
    "<li><a href=\"https://docs.cloud.oracle.com/iaas/tools/ads-sdk/latest/index.html\">ADS documentation</a></li>\n",
    "</ul>\n",
    "</details>\n",
    "<details>\n",
    "<summary><font size=\"2\">Typical Cell Imports and Settings for ADS</font></summary>\n",
    "\n",
    "```python\n",
    "%load_ext autoreload\n",
    "%autoreload 2\n",
    "%matplotlib inline\n",
    "\n",
    "import warnings\n",
    "warnings.filterwarnings('ignore')\n",
    "\n",
    "import logging\n",
    "logging.basicConfig(format='%(levelname)s:%(message)s', level=logging.ERROR)\n",
    "\n",
    "import ads\n",
    "from ads.dataset.factory import DatasetFactory\n",
    "from ads.automl.provider import OracleAutoMLProvider\n",
    "from ads.automl.driver import AutoML\n",
    "from ads.evaluations.evaluator import ADSEvaluator\n",
    "from ads.common.data import ADSData\n",
    "from ads.explanations.explainer import ADSExplainer\n",
    "from ads.explanations.mlx_global_explainer import MLXGlobalExplainer\n",
    "from ads.explanations.mlx_local_explainer import MLXLocalExplainer\n",
    "from ads.catalog.model import ModelCatalog\n",
    "from ads.common.model_artifact import ModelArtifact\n",
    "```\n",
    "</details>\n",
    "<details>\n",
    "<summary><font size=\"2\">Useful Environment Variables</font></summary>\n",
    "\n",
    "```python\n",
    "import os\n",
    "print(os.environ[\"NB_SESSION_COMPARTMENT_OCID\"])\n",
    "print(os.environ[\"PROJECT_OCID\"])\n",
    "print(os.environ[\"USER_OCID\"])\n",
    "print(os.environ[\"TENANCY_OCID\"])\n",
    "print(os.environ[\"NB_REGION\"])\n",
    "```\n",
    "</details>"
   ]
  },
  {
   "cell_type": "code",
   "execution_count": 3,
   "id": "87924656",
   "metadata": {},
   "outputs": [
    {
     "data": {
      "text/plain": [
       "<oci.signer.Signer at 0x7f2069377160>"
      ]
     },
     "execution_count": 3,
     "metadata": {},
     "output_type": "execute_result"
    }
   ],
   "source": [
    "user_tenancy_id = ''\n",
    "user_id = ''\n",
    "user_fingerprint = ''\n",
    "user_private_key_file_location = ''\n",
    "\n",
    "# user_private_key_file_location = 'your_private_key.pem'\n",
    "auth = Signer(\n",
    "    tenancy= user_tenancy_id,\n",
    "    user= user_id,\n",
    "    fingerprint= user_fingerprint,\n",
    "    private_key_file_location= user_private_key_file_location,\n",
    "    pass_phrase= \"test\"\n",
    ")\n",
    "\n",
    "auth"
   ]
  },
  {
   "cell_type": "markdown",
   "id": "3fd452b5",
   "metadata": {},
   "source": [
    "## Create Project\n",
    "#### We don't need to create new projects everytime we run this notebook. A project id once created can be used again and again.\n"
   ]
  },
  {
   "cell_type": "code",
   "execution_count": null,
   "id": "3447eeb0",
   "metadata": {},
   "outputs": [],
   "source": [
    "url = \"https://forecasting.aiservice.us-phoenix-1.oci.oraclecloud.com/20220101/projects\" #Prod\n",
    "payload = json.dumps({\n",
    "  \"displayName\": \"Forecast BETA V2 Demo\",\n",
    "  \"compartmentId\": user_tenancy_id, #your tenancy id goes here\n",
    "  \"description\": \"Forecasting service API BETA V2 Demo\",\n",
    "  \"freeformTags\": None,\n",
    "  \"definedTags\": None,\n",
    "  \"systemTags\": None\n",
    "})\n",
    "headers = {\n",
    "  'Content-Type': 'application/json'\n",
    "}\n",
    "response = requests.request(\"POST\", url, headers=headers, data=payload, auth=auth)\n",
    "create_project_response = json.loads(response.text)\n",
    "project_id = create_project_response['id']"
   ]
  },
  {
   "cell_type": "code",
   "execution_count": 276,
   "id": "535f2393",
   "metadata": {},
   "outputs": [],
   "source": [
    "df_primary = pd.read_csv('primary_15_AUTOMOTIVE.csv')\n",
    "df_add = pd.read_csv('add_15_AUTOMOTIVE.csv')\n"
   ]
  },
  {
   "cell_type": "markdown",
   "id": "74cdeca5",
   "metadata": {},
   "source": [
    "### Modify date format  to required format \"yyyy-mm-dd hh:mm:ss\" for inline data\n"
   ]
  },
  {
   "cell_type": "code",
   "execution_count": 277,
   "id": "bd7acdd7",
   "metadata": {},
   "outputs": [],
   "source": [
    "### Do below only if Date not in required format\n",
    "# df_primary['date'] = pd.to_datetime(df_primary['date'],format='%d/%m/%y').apply(lambda x: str(x))\n",
    "# df_add['date'] = pd.to_datetime(df_add['date'],format='%d/%m/%y').apply(lambda x: str(x))"
   ]
  },
  {
   "cell_type": "code",
   "execution_count": 278,
   "id": "b7d74d5f",
   "metadata": {},
   "outputs": [],
   "source": [
    "df_primary.sort_values(by = \"date\" , inplace = True)          \n",
    "df_add.sort_values(by = \"date\" , inplace = True) "
   ]
  },
  {
   "cell_type": "code",
   "execution_count": 279,
   "id": "22b2ae47",
   "metadata": {},
   "outputs": [],
   "source": [
    "#primary data\n",
    "prim_load = df_primary.values.transpose().tolist()\n",
    "#additional data\n",
    "add_load = df_add.values.transpose().tolist()"
   ]
  },
  {
   "cell_type": "code",
   "execution_count": 280,
   "id": "d71ceea1",
   "metadata": {},
   "outputs": [],
   "source": [
    "project_id = \"\"\n",
    "compartment_id = user_tenancy_id"
   ]
  },
  {
   "cell_type": "code",
   "execution_count": 281,
   "id": "0c3d6238",
   "metadata": {},
   "outputs": [],
   "source": [
    "date_col = 'date'\n",
    "target_col = 'Sales'\n",
    "id_col = 'item_id'\n",
    "data_frequency = 'DAY'\n",
    "forecast_frequency = 'DAY'\n",
    "forecast_horizon  = 14\n",
    "forecast_name = \"LiveLabs Inline Forecasting Service API\""
   ]
  },
  {
   "cell_type": "code",
   "execution_count": 282,
   "id": "cb4d6552",
   "metadata": {},
   "outputs": [
    {
     "name": "stdout",
     "output_type": "stream",
     "text": [
      "CPU times: user 27.5 ms, sys: 4.41 ms, total: 31.9 ms\n",
      "Wall time: 681 ms\n"
     ]
    }
   ],
   "source": [
    "%%time\n",
    "\n",
    "url = \"https://forecasting.aiservice.us-phoenix-1.oci.oraclecloud.com/20220101/forecasts\"\n",
    "\n",
    "payload = simplejson.dumps(\n",
    "{\n",
    "\"displayName\": forecast_name,\n",
    "\"compartmentId\": compartment_id,\n",
    "\"projectId\": project_id,\n",
    "\"forecastCreationDetails\": {\n",
    "    \"forecastHorizon\": forecast_horizon,\n",
    "    \"confidenceInterval\": \"CI_5_95\",\n",
    "    \"errorMeasure\": \"RMSE\",\n",
    "    \"forecastTechnique\": \"ROCV\",\n",
    "    \"forecastFrequency\": forecast_frequency,\n",
    "    \"isForecastExplanationRequired\": True,\n",
    "    \"modelDetails\": {\n",
    "        \"models\": [\n",
    "                \"SMA\",\n",
    "                \"DMA\",\n",
    "                \"HWSM\",\n",
    "                \"HWSA\",\n",
    "                \"SES\",\n",
    "                \"DES\",\n",
    "                \"PROPHET\"\n",
    "        ]\n",
    "    },\n",
    "    \"dataSourceDetails\": {\n",
    "        \"type\": \"INLINE\",\n",
    "        \"primaryDataSource\": {\n",
    "            \"columnData\": prim_load,\n",
    "            \"isDataGrouped\": True,\n",
    "            \"tsColName\": date_col,\n",
    "            \"tsColFormat\": \"yyyy-MM-dd HH:mm:ss\",\n",
    "            \"dataFrequency\": data_frequency,\n",
    "            \"columnSchema\": [\n",
    "                    {\n",
    "                        \"columnName\": id_col,\n",
    "                        \"dataType\": \"STRING\"\n",
    "                    },\n",
    "                    {\n",
    "                        \"columnName\": date_col,\n",
    "                        \"dataType\": \"DATE\"\n",
    "                    },\n",
    "                    {\n",
    "                        \"columnName\": target_col,\n",
    "                        \"dataType\": \"INT\"\n",
    "                    }\n",
    "                ]\n",
    "        },\n",
    "        \"additionalDataSource\": {\n",
    "            \"columnData\": add_load,\n",
    "            \"isDataGrouped\": True,\n",
    "            \"tsColName\": date_col,\n",
    "            \"tsColFormat\": \"yyyy-MM-dd HH:mm:ss\",\n",
    "            \"dataFrequency\": data_frequency,\n",
    "            \"columnSchema\": [\n",
    "                    {\n",
    "                        \"columnName\": id_col,\n",
    "                        \"dataType\": \"STRING\"\n",
    "                    },\n",
    "                    {\n",
    "                        \"columnName\": \"date\",\n",
    "                        \"dataType\": \"DATE\"\n",
    "                    },\n",
    "                    {\n",
    "                        \"columnName\": \"onpromotion\",\n",
    "                        \"dataType\": \"INT\"\n",
    "                    }\n",
    "                ]\n",
    "        }\n",
    "           \n",
    "    },\n",
    "    \"targetVariables\": [\n",
    "        target_col\n",
    "    ]\n",
    "}\n",
    "}\n",
    "    , ignore_nan=True\n",
    ")\n",
    "\n",
    "headers = {\n",
    "  'Content-Type': 'application/json'\n",
    "}\n",
    "       \n",
    "response = requests.request(\"POST\", url, headers=headers, data=payload, auth=auth)"
   ]
  },
  {
   "cell_type": "code",
   "execution_count": 284,
   "id": "d8fddb5c",
   "metadata": {},
   "outputs": [],
   "source": [
    "create_forecast_response = json.loads(response.text)\n",
    "create_forecast_response"
   ]
  },
  {
   "cell_type": "code",
   "execution_count": 285,
   "id": "7639492a",
   "metadata": {},
   "outputs": [
    {
     "name": "stdout",
     "output_type": "stream",
     "text": [
      "ocid1.aiforecast.oc1.phx.amaaaaaasxs7gpyabfi3l7npt6no3ovk4242gyvhttufor4v4rfblawku5pq\n"
     ]
    }
   ],
   "source": [
    "create_forecast_id = create_forecast_response['id']\n",
    "print(create_forecast_id)\n"
   ]
  },
  {
   "cell_type": "code",
   "execution_count": 3,
   "id": "12f33456",
   "metadata": {},
   "outputs": [],
   "source": [
    "url = \"https://forecasting.aiservice.us-phoenix-1.oci.oraclecloud.com/20220101/forecasts/{}\".format(create_forecast_id) #prod\n",
    "url\n",
    "payload={}\n",
    "headers = {}\n",
    "\n",
    "response = requests.request(\"GET\", url, headers=headers, data=payload, auth=auth)\n",
    "print(response.headers)\n",
    "get_forecast_response = json.loads(response.text)\n",
    "get_forecast_response"
   ]
  },
  {
   "cell_type": "code",
   "execution_count": 1,
   "id": "05580eb0",
   "metadata": {},
   "outputs": [],
   "source": [
    "df_forecasts = pd.DataFrame({'forecast_dates':[],'upper':[],'lower':[],'forecast':[], 'series_id':[]})\n",
    "for i in range(len(get_forecast_response['forecastResult']['forecast'])):\n",
    "\n",
    "    group = get_forecast_response['forecastResult']['forecast'][i]['targetColumn']\n",
    "    point_forecast = get_forecast_response['forecastResult']['forecast'][i]['forecast']\n",
    "    pred_intervals = pd.DataFrame(get_forecast_response['forecastResult']\n",
    "                              ['forecast'][i]['predictionInterval'],dtype=float)\n",
    "    out = pred_intervals\n",
    "    out['forecast'] = point_forecast\n",
    "    forecast_dates = pd.DataFrame({'forecast_dates':get_forecast_response['forecastResult']['forecast'][i]['dates']})\n",
    "    forecasts = pd.concat([forecast_dates,out],axis=1)\n",
    "    forecasts['series_id'] = group\n",
    "    df_forecasts = df_forecasts.append(forecasts, ignore_index = False)\n",
    "file_name = 'forecast.csv'\n",
    "df_forecasts.to_csv(file_name, index = None)\n",
    "df_forecasts"
   ]
  },
  {
   "cell_type": "code",
   "execution_count": 2,
   "id": "afeacac9",
   "metadata": {},
   "outputs": [],
   "source": [
    "get_forecast_response['forecastResult']['metrics']['targetColumns']"
   ]
  },
  {
   "cell_type": "code",
   "execution_count": 1,
   "id": "7b1dd92b",
   "metadata": {},
   "outputs": [],
   "source": [
    "url = \"https://forecasting.aiservice.us-phoenix-1.oci.oraclecloud.com/20220101/forecasts/{}/explanations\".format(create_forecast_id)\n",
    "\n",
    "payload={}\n",
    "headers = {}\n",
    "\n",
    "response = requests.request(\"GET\", url, headers=headers, data=payload, auth=auth)\n",
    "get_forecast_explanations = json.loads(response.text)\n",
    "\n",
    "get_forecast_explanations"
   ]
  },
  {
   "cell_type": "markdown",
   "id": "243eff1e",
   "metadata": {},
   "source": [
    "# Global Feature Importance"
   ]
  },
  {
   "cell_type": "code",
   "execution_count": 251,
   "id": "6a2793a8",
   "metadata": {},
   "outputs": [
    {
     "data": {
      "application/vnd.plotly.v1+json": {
       "config": {
        "plotlyServerURL": "https://plot.ly"
       },
       "data": [
        {
         "alignmentgroup": "True",
         "hovertemplate": "Feature_Importance=%{x}<br>Features=%{y}<extra></extra>",
         "legendgroup": "",
         "marker": {
          "color": "lightsalmon",
          "pattern": {
           "shape": ""
          }
         },
         "name": "",
         "offsetgroup": "",
         "orientation": "v",
         "showlegend": false,
         "textposition": "auto",
         "type": "bar",
         "x": [
          {
           "normalizedScore": 0.040773854,
           "rawScore": 8.556468
          },
          {
           "normalizedScore": 0.016812352,
           "rawScore": 3.5281029
          },
          {
           "normalizedScore": 0.050541937,
           "rawScore": 10.6063175
          },
          {
           "normalizedScore": 0.03203697,
           "rawScore": 6.723017
          },
          {
           "normalizedScore": 0.17662293,
           "rawScore": 37.064644
          },
          {
           "normalizedScore": 0.08365665,
           "rawScore": 17.5555
          },
          {
           "normalizedScore": 0.25032967,
           "rawScore": 52.532135
          },
          {
           "normalizedScore": 0.1641915,
           "rawScore": 34.455887
          },
          {
           "normalizedScore": 0.11129853,
           "rawScore": 23.3562
          },
          {
           "normalizedScore": 0.07373563,
           "rawScore": 15.4735565
          }
         ],
         "xaxis": "x",
         "y": [
          "Y(t - 8)",
          "Y(t - 9)",
          "Y(t - 4)",
          "Y(t - 5)",
          "Y(t - 6)",
          "Y(t - 7)",
          "Y(t)",
          "Y(t - 1)",
          "Y(t - 2)",
          "Y(t - 3)"
         ],
         "yaxis": "y"
        }
       ],
       "layout": {
        "barmode": "relative",
        "legend": {
         "tracegroupgap": 0
        },
        "template": {
         "data": {
          "bar": [
           {
            "error_x": {
             "color": "#2a3f5f"
            },
            "error_y": {
             "color": "#2a3f5f"
            },
            "marker": {
             "line": {
              "color": "#E5ECF6",
              "width": 0.5
             },
             "pattern": {
              "fillmode": "overlay",
              "size": 10,
              "solidity": 0.2
             }
            },
            "type": "bar"
           }
          ],
          "barpolar": [
           {
            "marker": {
             "line": {
              "color": "#E5ECF6",
              "width": 0.5
             },
             "pattern": {
              "fillmode": "overlay",
              "size": 10,
              "solidity": 0.2
             }
            },
            "type": "barpolar"
           }
          ],
          "carpet": [
           {
            "aaxis": {
             "endlinecolor": "#2a3f5f",
             "gridcolor": "white",
             "linecolor": "white",
             "minorgridcolor": "white",
             "startlinecolor": "#2a3f5f"
            },
            "baxis": {
             "endlinecolor": "#2a3f5f",
             "gridcolor": "white",
             "linecolor": "white",
             "minorgridcolor": "white",
             "startlinecolor": "#2a3f5f"
            },
            "type": "carpet"
           }
          ],
          "choropleth": [
           {
            "colorbar": {
             "outlinewidth": 0,
             "ticks": ""
            },
            "type": "choropleth"
           }
          ],
          "contour": [
           {
            "colorbar": {
             "outlinewidth": 0,
             "ticks": ""
            },
            "colorscale": [
             [
              0,
              "#0d0887"
             ],
             [
              0.1111111111111111,
              "#46039f"
             ],
             [
              0.2222222222222222,
              "#7201a8"
             ],
             [
              0.3333333333333333,
              "#9c179e"
             ],
             [
              0.4444444444444444,
              "#bd3786"
             ],
             [
              0.5555555555555556,
              "#d8576b"
             ],
             [
              0.6666666666666666,
              "#ed7953"
             ],
             [
              0.7777777777777778,
              "#fb9f3a"
             ],
             [
              0.8888888888888888,
              "#fdca26"
             ],
             [
              1,
              "#f0f921"
             ]
            ],
            "type": "contour"
           }
          ],
          "contourcarpet": [
           {
            "colorbar": {
             "outlinewidth": 0,
             "ticks": ""
            },
            "type": "contourcarpet"
           }
          ],
          "heatmap": [
           {
            "colorbar": {
             "outlinewidth": 0,
             "ticks": ""
            },
            "colorscale": [
             [
              0,
              "#0d0887"
             ],
             [
              0.1111111111111111,
              "#46039f"
             ],
             [
              0.2222222222222222,
              "#7201a8"
             ],
             [
              0.3333333333333333,
              "#9c179e"
             ],
             [
              0.4444444444444444,
              "#bd3786"
             ],
             [
              0.5555555555555556,
              "#d8576b"
             ],
             [
              0.6666666666666666,
              "#ed7953"
             ],
             [
              0.7777777777777778,
              "#fb9f3a"
             ],
             [
              0.8888888888888888,
              "#fdca26"
             ],
             [
              1,
              "#f0f921"
             ]
            ],
            "type": "heatmap"
           }
          ],
          "heatmapgl": [
           {
            "colorbar": {
             "outlinewidth": 0,
             "ticks": ""
            },
            "colorscale": [
             [
              0,
              "#0d0887"
             ],
             [
              0.1111111111111111,
              "#46039f"
             ],
             [
              0.2222222222222222,
              "#7201a8"
             ],
             [
              0.3333333333333333,
              "#9c179e"
             ],
             [
              0.4444444444444444,
              "#bd3786"
             ],
             [
              0.5555555555555556,
              "#d8576b"
             ],
             [
              0.6666666666666666,
              "#ed7953"
             ],
             [
              0.7777777777777778,
              "#fb9f3a"
             ],
             [
              0.8888888888888888,
              "#fdca26"
             ],
             [
              1,
              "#f0f921"
             ]
            ],
            "type": "heatmapgl"
           }
          ],
          "histogram": [
           {
            "marker": {
             "pattern": {
              "fillmode": "overlay",
              "size": 10,
              "solidity": 0.2
             }
            },
            "type": "histogram"
           }
          ],
          "histogram2d": [
           {
            "colorbar": {
             "outlinewidth": 0,
             "ticks": ""
            },
            "colorscale": [
             [
              0,
              "#0d0887"
             ],
             [
              0.1111111111111111,
              "#46039f"
             ],
             [
              0.2222222222222222,
              "#7201a8"
             ],
             [
              0.3333333333333333,
              "#9c179e"
             ],
             [
              0.4444444444444444,
              "#bd3786"
             ],
             [
              0.5555555555555556,
              "#d8576b"
             ],
             [
              0.6666666666666666,
              "#ed7953"
             ],
             [
              0.7777777777777778,
              "#fb9f3a"
             ],
             [
              0.8888888888888888,
              "#fdca26"
             ],
             [
              1,
              "#f0f921"
             ]
            ],
            "type": "histogram2d"
           }
          ],
          "histogram2dcontour": [
           {
            "colorbar": {
             "outlinewidth": 0,
             "ticks": ""
            },
            "colorscale": [
             [
              0,
              "#0d0887"
             ],
             [
              0.1111111111111111,
              "#46039f"
             ],
             [
              0.2222222222222222,
              "#7201a8"
             ],
             [
              0.3333333333333333,
              "#9c179e"
             ],
             [
              0.4444444444444444,
              "#bd3786"
             ],
             [
              0.5555555555555556,
              "#d8576b"
             ],
             [
              0.6666666666666666,
              "#ed7953"
             ],
             [
              0.7777777777777778,
              "#fb9f3a"
             ],
             [
              0.8888888888888888,
              "#fdca26"
             ],
             [
              1,
              "#f0f921"
             ]
            ],
            "type": "histogram2dcontour"
           }
          ],
          "mesh3d": [
           {
            "colorbar": {
             "outlinewidth": 0,
             "ticks": ""
            },
            "type": "mesh3d"
           }
          ],
          "parcoords": [
           {
            "line": {
             "colorbar": {
              "outlinewidth": 0,
              "ticks": ""
             }
            },
            "type": "parcoords"
           }
          ],
          "pie": [
           {
            "automargin": true,
            "type": "pie"
           }
          ],
          "scatter": [
           {
            "marker": {
             "colorbar": {
              "outlinewidth": 0,
              "ticks": ""
             }
            },
            "type": "scatter"
           }
          ],
          "scatter3d": [
           {
            "line": {
             "colorbar": {
              "outlinewidth": 0,
              "ticks": ""
             }
            },
            "marker": {
             "colorbar": {
              "outlinewidth": 0,
              "ticks": ""
             }
            },
            "type": "scatter3d"
           }
          ],
          "scattercarpet": [
           {
            "marker": {
             "colorbar": {
              "outlinewidth": 0,
              "ticks": ""
             }
            },
            "type": "scattercarpet"
           }
          ],
          "scattergeo": [
           {
            "marker": {
             "colorbar": {
              "outlinewidth": 0,
              "ticks": ""
             }
            },
            "type": "scattergeo"
           }
          ],
          "scattergl": [
           {
            "marker": {
             "colorbar": {
              "outlinewidth": 0,
              "ticks": ""
             }
            },
            "type": "scattergl"
           }
          ],
          "scattermapbox": [
           {
            "marker": {
             "colorbar": {
              "outlinewidth": 0,
              "ticks": ""
             }
            },
            "type": "scattermapbox"
           }
          ],
          "scatterpolar": [
           {
            "marker": {
             "colorbar": {
              "outlinewidth": 0,
              "ticks": ""
             }
            },
            "type": "scatterpolar"
           }
          ],
          "scatterpolargl": [
           {
            "marker": {
             "colorbar": {
              "outlinewidth": 0,
              "ticks": ""
             }
            },
            "type": "scatterpolargl"
           }
          ],
          "scatterternary": [
           {
            "marker": {
             "colorbar": {
              "outlinewidth": 0,
              "ticks": ""
             }
            },
            "type": "scatterternary"
           }
          ],
          "surface": [
           {
            "colorbar": {
             "outlinewidth": 0,
             "ticks": ""
            },
            "colorscale": [
             [
              0,
              "#0d0887"
             ],
             [
              0.1111111111111111,
              "#46039f"
             ],
             [
              0.2222222222222222,
              "#7201a8"
             ],
             [
              0.3333333333333333,
              "#9c179e"
             ],
             [
              0.4444444444444444,
              "#bd3786"
             ],
             [
              0.5555555555555556,
              "#d8576b"
             ],
             [
              0.6666666666666666,
              "#ed7953"
             ],
             [
              0.7777777777777778,
              "#fb9f3a"
             ],
             [
              0.8888888888888888,
              "#fdca26"
             ],
             [
              1,
              "#f0f921"
             ]
            ],
            "type": "surface"
           }
          ],
          "table": [
           {
            "cells": {
             "fill": {
              "color": "#EBF0F8"
             },
             "line": {
              "color": "white"
             }
            },
            "header": {
             "fill": {
              "color": "#C8D4E3"
             },
             "line": {
              "color": "white"
             }
            },
            "type": "table"
           }
          ]
         },
         "layout": {
          "annotationdefaults": {
           "arrowcolor": "#2a3f5f",
           "arrowhead": 0,
           "arrowwidth": 1
          },
          "autotypenumbers": "strict",
          "coloraxis": {
           "colorbar": {
            "outlinewidth": 0,
            "ticks": ""
           }
          },
          "colorscale": {
           "diverging": [
            [
             0,
             "#8e0152"
            ],
            [
             0.1,
             "#c51b7d"
            ],
            [
             0.2,
             "#de77ae"
            ],
            [
             0.3,
             "#f1b6da"
            ],
            [
             0.4,
             "#fde0ef"
            ],
            [
             0.5,
             "#f7f7f7"
            ],
            [
             0.6,
             "#e6f5d0"
            ],
            [
             0.7,
             "#b8e186"
            ],
            [
             0.8,
             "#7fbc41"
            ],
            [
             0.9,
             "#4d9221"
            ],
            [
             1,
             "#276419"
            ]
           ],
           "sequential": [
            [
             0,
             "#0d0887"
            ],
            [
             0.1111111111111111,
             "#46039f"
            ],
            [
             0.2222222222222222,
             "#7201a8"
            ],
            [
             0.3333333333333333,
             "#9c179e"
            ],
            [
             0.4444444444444444,
             "#bd3786"
            ],
            [
             0.5555555555555556,
             "#d8576b"
            ],
            [
             0.6666666666666666,
             "#ed7953"
            ],
            [
             0.7777777777777778,
             "#fb9f3a"
            ],
            [
             0.8888888888888888,
             "#fdca26"
            ],
            [
             1,
             "#f0f921"
            ]
           ],
           "sequentialminus": [
            [
             0,
             "#0d0887"
            ],
            [
             0.1111111111111111,
             "#46039f"
            ],
            [
             0.2222222222222222,
             "#7201a8"
            ],
            [
             0.3333333333333333,
             "#9c179e"
            ],
            [
             0.4444444444444444,
             "#bd3786"
            ],
            [
             0.5555555555555556,
             "#d8576b"
            ],
            [
             0.6666666666666666,
             "#ed7953"
            ],
            [
             0.7777777777777778,
             "#fb9f3a"
            ],
            [
             0.8888888888888888,
             "#fdca26"
            ],
            [
             1,
             "#f0f921"
            ]
           ]
          },
          "colorway": [
           "#636efa",
           "#EF553B",
           "#00cc96",
           "#ab63fa",
           "#FFA15A",
           "#19d3f3",
           "#FF6692",
           "#B6E880",
           "#FF97FF",
           "#FECB52"
          ],
          "font": {
           "color": "#2a3f5f"
          },
          "geo": {
           "bgcolor": "white",
           "lakecolor": "white",
           "landcolor": "#E5ECF6",
           "showlakes": true,
           "showland": true,
           "subunitcolor": "white"
          },
          "hoverlabel": {
           "align": "left"
          },
          "hovermode": "closest",
          "mapbox": {
           "style": "light"
          },
          "paper_bgcolor": "white",
          "plot_bgcolor": "#E5ECF6",
          "polar": {
           "angularaxis": {
            "gridcolor": "white",
            "linecolor": "white",
            "ticks": ""
           },
           "bgcolor": "#E5ECF6",
           "radialaxis": {
            "gridcolor": "white",
            "linecolor": "white",
            "ticks": ""
           }
          },
          "scene": {
           "xaxis": {
            "backgroundcolor": "#E5ECF6",
            "gridcolor": "white",
            "gridwidth": 2,
            "linecolor": "white",
            "showbackground": true,
            "ticks": "",
            "zerolinecolor": "white"
           },
           "yaxis": {
            "backgroundcolor": "#E5ECF6",
            "gridcolor": "white",
            "gridwidth": 2,
            "linecolor": "white",
            "showbackground": true,
            "ticks": "",
            "zerolinecolor": "white"
           },
           "zaxis": {
            "backgroundcolor": "#E5ECF6",
            "gridcolor": "white",
            "gridwidth": 2,
            "linecolor": "white",
            "showbackground": true,
            "ticks": "",
            "zerolinecolor": "white"
           }
          },
          "shapedefaults": {
           "line": {
            "color": "#2a3f5f"
           }
          },
          "ternary": {
           "aaxis": {
            "gridcolor": "white",
            "linecolor": "white",
            "ticks": ""
           },
           "baxis": {
            "gridcolor": "white",
            "linecolor": "white",
            "ticks": ""
           },
           "bgcolor": "#E5ECF6",
           "caxis": {
            "gridcolor": "white",
            "linecolor": "white",
            "ticks": ""
           }
          },
          "title": {
           "x": 0.05
          },
          "xaxis": {
           "automargin": true,
           "gridcolor": "white",
           "linecolor": "white",
           "ticks": "",
           "title": {
            "standoff": 15
           },
           "zerolinecolor": "white",
           "zerolinewidth": 2
          },
          "yaxis": {
           "automargin": true,
           "gridcolor": "white",
           "linecolor": "white",
           "ticks": "",
           "title": {
            "standoff": 15
           },
           "zerolinecolor": "white",
           "zerolinewidth": 2
          }
         }
        },
        "title": {
         "text": "Global Feature Importance "
        },
        "xaxis": {
         "anchor": "y",
         "domain": [
          0,
          1
         ],
         "title": {
          "text": "Feature_Importance"
         }
        },
        "yaxis": {
         "anchor": "x",
         "categoryorder": "total ascending",
         "domain": [
          0,
          1
         ],
         "title": {
          "text": "Features"
         },
         "type": "category"
        }
       }
      },
      "text/html": [
       "<div>                            <div id=\"7446c93c-0358-4d49-8738-ea781fb00b83\" class=\"plotly-graph-div\" style=\"height:525px; width:100%;\"></div>            <script type=\"text/javascript\">                require([\"plotly\"], function(Plotly) {                    window.PLOTLYENV=window.PLOTLYENV || {};                                    if (document.getElementById(\"7446c93c-0358-4d49-8738-ea781fb00b83\")) {                    Plotly.newPlot(                        \"7446c93c-0358-4d49-8738-ea781fb00b83\",                        [{\"alignmentgroup\":\"True\",\"hovertemplate\":\"Feature_Importance=%{x}<br>Features=%{y}<extra></extra>\",\"legendgroup\":\"\",\"marker\":{\"color\":\"lightsalmon\",\"pattern\":{\"shape\":\"\"}},\"name\":\"\",\"offsetgroup\":\"\",\"orientation\":\"v\",\"showlegend\":false,\"textposition\":\"auto\",\"x\":[{\"normalizedScore\":0.040773854,\"rawScore\":8.556468},{\"normalizedScore\":0.016812352,\"rawScore\":3.5281029},{\"normalizedScore\":0.050541937,\"rawScore\":10.6063175},{\"normalizedScore\":0.03203697,\"rawScore\":6.723017},{\"normalizedScore\":0.17662293,\"rawScore\":37.064644},{\"normalizedScore\":0.08365665,\"rawScore\":17.5555},{\"normalizedScore\":0.25032967,\"rawScore\":52.532135},{\"normalizedScore\":0.1641915,\"rawScore\":34.455887},{\"normalizedScore\":0.11129853,\"rawScore\":23.3562},{\"normalizedScore\":0.07373563,\"rawScore\":15.4735565}],\"xaxis\":\"x\",\"y\":[\"Y(t - 8)\",\"Y(t - 9)\",\"Y(t - 4)\",\"Y(t - 5)\",\"Y(t - 6)\",\"Y(t - 7)\",\"Y(t)\",\"Y(t - 1)\",\"Y(t - 2)\",\"Y(t - 3)\"],\"yaxis\":\"y\",\"type\":\"bar\"}],                        {\"template\":{\"data\":{\"bar\":[{\"error_x\":{\"color\":\"#2a3f5f\"},\"error_y\":{\"color\":\"#2a3f5f\"},\"marker\":{\"line\":{\"color\":\"#E5ECF6\",\"width\":0.5},\"pattern\":{\"fillmode\":\"overlay\",\"size\":10,\"solidity\":0.2}},\"type\":\"bar\"}],\"barpolar\":[{\"marker\":{\"line\":{\"color\":\"#E5ECF6\",\"width\":0.5},\"pattern\":{\"fillmode\":\"overlay\",\"size\":10,\"solidity\":0.2}},\"type\":\"barpolar\"}],\"carpet\":[{\"aaxis\":{\"endlinecolor\":\"#2a3f5f\",\"gridcolor\":\"white\",\"linecolor\":\"white\",\"minorgridcolor\":\"white\",\"startlinecolor\":\"#2a3f5f\"},\"baxis\":{\"endlinecolor\":\"#2a3f5f\",\"gridcolor\":\"white\",\"linecolor\":\"white\",\"minorgridcolor\":\"white\",\"startlinecolor\":\"#2a3f5f\"},\"type\":\"carpet\"}],\"choropleth\":[{\"colorbar\":{\"outlinewidth\":0,\"ticks\":\"\"},\"type\":\"choropleth\"}],\"contour\":[{\"colorbar\":{\"outlinewidth\":0,\"ticks\":\"\"},\"colorscale\":[[0.0,\"#0d0887\"],[0.1111111111111111,\"#46039f\"],[0.2222222222222222,\"#7201a8\"],[0.3333333333333333,\"#9c179e\"],[0.4444444444444444,\"#bd3786\"],[0.5555555555555556,\"#d8576b\"],[0.6666666666666666,\"#ed7953\"],[0.7777777777777778,\"#fb9f3a\"],[0.8888888888888888,\"#fdca26\"],[1.0,\"#f0f921\"]],\"type\":\"contour\"}],\"contourcarpet\":[{\"colorbar\":{\"outlinewidth\":0,\"ticks\":\"\"},\"type\":\"contourcarpet\"}],\"heatmap\":[{\"colorbar\":{\"outlinewidth\":0,\"ticks\":\"\"},\"colorscale\":[[0.0,\"#0d0887\"],[0.1111111111111111,\"#46039f\"],[0.2222222222222222,\"#7201a8\"],[0.3333333333333333,\"#9c179e\"],[0.4444444444444444,\"#bd3786\"],[0.5555555555555556,\"#d8576b\"],[0.6666666666666666,\"#ed7953\"],[0.7777777777777778,\"#fb9f3a\"],[0.8888888888888888,\"#fdca26\"],[1.0,\"#f0f921\"]],\"type\":\"heatmap\"}],\"heatmapgl\":[{\"colorbar\":{\"outlinewidth\":0,\"ticks\":\"\"},\"colorscale\":[[0.0,\"#0d0887\"],[0.1111111111111111,\"#46039f\"],[0.2222222222222222,\"#7201a8\"],[0.3333333333333333,\"#9c179e\"],[0.4444444444444444,\"#bd3786\"],[0.5555555555555556,\"#d8576b\"],[0.6666666666666666,\"#ed7953\"],[0.7777777777777778,\"#fb9f3a\"],[0.8888888888888888,\"#fdca26\"],[1.0,\"#f0f921\"]],\"type\":\"heatmapgl\"}],\"histogram\":[{\"marker\":{\"pattern\":{\"fillmode\":\"overlay\",\"size\":10,\"solidity\":0.2}},\"type\":\"histogram\"}],\"histogram2d\":[{\"colorbar\":{\"outlinewidth\":0,\"ticks\":\"\"},\"colorscale\":[[0.0,\"#0d0887\"],[0.1111111111111111,\"#46039f\"],[0.2222222222222222,\"#7201a8\"],[0.3333333333333333,\"#9c179e\"],[0.4444444444444444,\"#bd3786\"],[0.5555555555555556,\"#d8576b\"],[0.6666666666666666,\"#ed7953\"],[0.7777777777777778,\"#fb9f3a\"],[0.8888888888888888,\"#fdca26\"],[1.0,\"#f0f921\"]],\"type\":\"histogram2d\"}],\"histogram2dcontour\":[{\"colorbar\":{\"outlinewidth\":0,\"ticks\":\"\"},\"colorscale\":[[0.0,\"#0d0887\"],[0.1111111111111111,\"#46039f\"],[0.2222222222222222,\"#7201a8\"],[0.3333333333333333,\"#9c179e\"],[0.4444444444444444,\"#bd3786\"],[0.5555555555555556,\"#d8576b\"],[0.6666666666666666,\"#ed7953\"],[0.7777777777777778,\"#fb9f3a\"],[0.8888888888888888,\"#fdca26\"],[1.0,\"#f0f921\"]],\"type\":\"histogram2dcontour\"}],\"mesh3d\":[{\"colorbar\":{\"outlinewidth\":0,\"ticks\":\"\"},\"type\":\"mesh3d\"}],\"parcoords\":[{\"line\":{\"colorbar\":{\"outlinewidth\":0,\"ticks\":\"\"}},\"type\":\"parcoords\"}],\"pie\":[{\"automargin\":true,\"type\":\"pie\"}],\"scatter\":[{\"marker\":{\"colorbar\":{\"outlinewidth\":0,\"ticks\":\"\"}},\"type\":\"scatter\"}],\"scatter3d\":[{\"line\":{\"colorbar\":{\"outlinewidth\":0,\"ticks\":\"\"}},\"marker\":{\"colorbar\":{\"outlinewidth\":0,\"ticks\":\"\"}},\"type\":\"scatter3d\"}],\"scattercarpet\":[{\"marker\":{\"colorbar\":{\"outlinewidth\":0,\"ticks\":\"\"}},\"type\":\"scattercarpet\"}],\"scattergeo\":[{\"marker\":{\"colorbar\":{\"outlinewidth\":0,\"ticks\":\"\"}},\"type\":\"scattergeo\"}],\"scattergl\":[{\"marker\":{\"colorbar\":{\"outlinewidth\":0,\"ticks\":\"\"}},\"type\":\"scattergl\"}],\"scattermapbox\":[{\"marker\":{\"colorbar\":{\"outlinewidth\":0,\"ticks\":\"\"}},\"type\":\"scattermapbox\"}],\"scatterpolar\":[{\"marker\":{\"colorbar\":{\"outlinewidth\":0,\"ticks\":\"\"}},\"type\":\"scatterpolar\"}],\"scatterpolargl\":[{\"marker\":{\"colorbar\":{\"outlinewidth\":0,\"ticks\":\"\"}},\"type\":\"scatterpolargl\"}],\"scatterternary\":[{\"marker\":{\"colorbar\":{\"outlinewidth\":0,\"ticks\":\"\"}},\"type\":\"scatterternary\"}],\"surface\":[{\"colorbar\":{\"outlinewidth\":0,\"ticks\":\"\"},\"colorscale\":[[0.0,\"#0d0887\"],[0.1111111111111111,\"#46039f\"],[0.2222222222222222,\"#7201a8\"],[0.3333333333333333,\"#9c179e\"],[0.4444444444444444,\"#bd3786\"],[0.5555555555555556,\"#d8576b\"],[0.6666666666666666,\"#ed7953\"],[0.7777777777777778,\"#fb9f3a\"],[0.8888888888888888,\"#fdca26\"],[1.0,\"#f0f921\"]],\"type\":\"surface\"}],\"table\":[{\"cells\":{\"fill\":{\"color\":\"#EBF0F8\"},\"line\":{\"color\":\"white\"}},\"header\":{\"fill\":{\"color\":\"#C8D4E3\"},\"line\":{\"color\":\"white\"}},\"type\":\"table\"}]},\"layout\":{\"annotationdefaults\":{\"arrowcolor\":\"#2a3f5f\",\"arrowhead\":0,\"arrowwidth\":1},\"autotypenumbers\":\"strict\",\"coloraxis\":{\"colorbar\":{\"outlinewidth\":0,\"ticks\":\"\"}},\"colorscale\":{\"diverging\":[[0,\"#8e0152\"],[0.1,\"#c51b7d\"],[0.2,\"#de77ae\"],[0.3,\"#f1b6da\"],[0.4,\"#fde0ef\"],[0.5,\"#f7f7f7\"],[0.6,\"#e6f5d0\"],[0.7,\"#b8e186\"],[0.8,\"#7fbc41\"],[0.9,\"#4d9221\"],[1,\"#276419\"]],\"sequential\":[[0.0,\"#0d0887\"],[0.1111111111111111,\"#46039f\"],[0.2222222222222222,\"#7201a8\"],[0.3333333333333333,\"#9c179e\"],[0.4444444444444444,\"#bd3786\"],[0.5555555555555556,\"#d8576b\"],[0.6666666666666666,\"#ed7953\"],[0.7777777777777778,\"#fb9f3a\"],[0.8888888888888888,\"#fdca26\"],[1.0,\"#f0f921\"]],\"sequentialminus\":[[0.0,\"#0d0887\"],[0.1111111111111111,\"#46039f\"],[0.2222222222222222,\"#7201a8\"],[0.3333333333333333,\"#9c179e\"],[0.4444444444444444,\"#bd3786\"],[0.5555555555555556,\"#d8576b\"],[0.6666666666666666,\"#ed7953\"],[0.7777777777777778,\"#fb9f3a\"],[0.8888888888888888,\"#fdca26\"],[1.0,\"#f0f921\"]]},\"colorway\":[\"#636efa\",\"#EF553B\",\"#00cc96\",\"#ab63fa\",\"#FFA15A\",\"#19d3f3\",\"#FF6692\",\"#B6E880\",\"#FF97FF\",\"#FECB52\"],\"font\":{\"color\":\"#2a3f5f\"},\"geo\":{\"bgcolor\":\"white\",\"lakecolor\":\"white\",\"landcolor\":\"#E5ECF6\",\"showlakes\":true,\"showland\":true,\"subunitcolor\":\"white\"},\"hoverlabel\":{\"align\":\"left\"},\"hovermode\":\"closest\",\"mapbox\":{\"style\":\"light\"},\"paper_bgcolor\":\"white\",\"plot_bgcolor\":\"#E5ECF6\",\"polar\":{\"angularaxis\":{\"gridcolor\":\"white\",\"linecolor\":\"white\",\"ticks\":\"\"},\"bgcolor\":\"#E5ECF6\",\"radialaxis\":{\"gridcolor\":\"white\",\"linecolor\":\"white\",\"ticks\":\"\"}},\"scene\":{\"xaxis\":{\"backgroundcolor\":\"#E5ECF6\",\"gridcolor\":\"white\",\"gridwidth\":2,\"linecolor\":\"white\",\"showbackground\":true,\"ticks\":\"\",\"zerolinecolor\":\"white\"},\"yaxis\":{\"backgroundcolor\":\"#E5ECF6\",\"gridcolor\":\"white\",\"gridwidth\":2,\"linecolor\":\"white\",\"showbackground\":true,\"ticks\":\"\",\"zerolinecolor\":\"white\"},\"zaxis\":{\"backgroundcolor\":\"#E5ECF6\",\"gridcolor\":\"white\",\"gridwidth\":2,\"linecolor\":\"white\",\"showbackground\":true,\"ticks\":\"\",\"zerolinecolor\":\"white\"}},\"shapedefaults\":{\"line\":{\"color\":\"#2a3f5f\"}},\"ternary\":{\"aaxis\":{\"gridcolor\":\"white\",\"linecolor\":\"white\",\"ticks\":\"\"},\"baxis\":{\"gridcolor\":\"white\",\"linecolor\":\"white\",\"ticks\":\"\"},\"bgcolor\":\"#E5ECF6\",\"caxis\":{\"gridcolor\":\"white\",\"linecolor\":\"white\",\"ticks\":\"\"}},\"title\":{\"x\":0.05},\"xaxis\":{\"automargin\":true,\"gridcolor\":\"white\",\"linecolor\":\"white\",\"ticks\":\"\",\"title\":{\"standoff\":15},\"zerolinecolor\":\"white\",\"zerolinewidth\":2},\"yaxis\":{\"automargin\":true,\"gridcolor\":\"white\",\"linecolor\":\"white\",\"ticks\":\"\",\"title\":{\"standoff\":15},\"zerolinecolor\":\"white\",\"zerolinewidth\":2}}},\"xaxis\":{\"anchor\":\"y\",\"domain\":[0.0,1.0],\"title\":{\"text\":\"Feature_Importance\"}},\"yaxis\":{\"anchor\":\"x\",\"domain\":[0.0,1.0],\"title\":{\"text\":\"Features\"},\"categoryorder\":\"total ascending\"},\"legend\":{\"tracegroupgap\":0},\"title\":{\"text\":\"Global Feature Importance \"},\"barmode\":\"relative\"},                        {\"responsive\": true}                    ).then(function(){\n",
       "                            \n",
       "var gd = document.getElementById('7446c93c-0358-4d49-8738-ea781fb00b83');\n",
       "var x = new MutationObserver(function (mutations, observer) {{\n",
       "        var display = window.getComputedStyle(gd).display;\n",
       "        if (!display || display === 'none') {{\n",
       "            console.log([gd, 'removed!']);\n",
       "            Plotly.purge(gd);\n",
       "            observer.disconnect();\n",
       "        }}\n",
       "}});\n",
       "\n",
       "// Listen for the removal of the full notebook cells\n",
       "var notebookContainer = gd.closest('#notebook-container');\n",
       "if (notebookContainer) {{\n",
       "    x.observe(notebookContainer, {childList: true});\n",
       "}}\n",
       "\n",
       "// Listen for the clearing of the current output cell\n",
       "var outputEl = gd.closest('.output');\n",
       "if (outputEl) {{\n",
       "    x.observe(outputEl, {childList: true});\n",
       "}}\n",
       "\n",
       "                        })                };                });            </script>        </div>"
      ]
     },
     "metadata": {},
     "output_type": "display_data"
    }
   ],
   "source": [
    "def plot_global_feature_importance(get_forecast_explanations, time_step):\n",
    "    df_imps = pd.DataFrame()\n",
    "    global_feature_importance = get_forecast_explanations['explanations'][0]['globalFeatureImportance']['influencingFeatures']\n",
    "    df_imps['Feature_Importance'] = local_feature_importance.values()\n",
    "    df_imps[\"Feature_Importance\"] = df_imps[\"Feature_Importance\"].apply(lambda x:x[\"normalizedScore\"])\n",
    "    feature_names = local_feature_importance.keys()\n",
    "    df_imps['Features'] = feature_names\n",
    "\n",
    "    title = \"Global Feature Importance\" \n",
    "    fig = px.bar(df_imps, y=\"Features\", x='Feature_Importance', title=title)\n",
    "    fig.update_traces(marker_color='lightsalmon')\n",
    "    fig.show()\n",
    "\n",
    "plot_global_feature_importance(get_forecast_explanations, time_step)"
   ]
  },
  {
   "cell_type": "markdown",
   "id": "dd9c2aa3",
   "metadata": {},
   "source": [
    "# Local Feature Importance\n",
    "- By changing the time step (range : 0 to forecast-1 ), you can get the local feature importance for that corresponding forecast"
   ]
  },
  {
   "cell_type": "code",
   "execution_count": 2,
   "id": "e87615c2",
   "metadata": {},
   "outputs": [],
   "source": [
    "import plotly.express as px\n",
    "import plotly.graph_objects as go\n",
    "import numpy as np\n",
    "\n",
    "def plot_local_feature_importance(get_forecast_explanations, time_step):\n",
    "    df_imps = pd.DataFrame()\n",
    "    local_feature_importance = get_forecast_explanations['explanations'][0]['localFeatureImportance']['influencingFeatures'][time_step]\n",
    "    df_imps['Feature_Importance'] = local_feature_importance.values()\n",
    "    df_imps[\"Feature_Importance\"] = df_imps[\"Feature_Importance\"].apply(lambda x:x[\"normalizedScore\"])\n",
    "    feature_names = local_feature_importance.keys()\n",
    "    df_imps['Features'] = feature_names\n",
    "\n",
    "    title = \"Local Feature Importance for Timestep \" + str(time_step)\n",
    "    fig = px.bar(df_imps, y=\"Features\", x='Feature_Importance', title=title)\n",
    "    fig.update_traces(marker_color='lightsalmon')\n",
    "    fig.show()\n",
    "\n",
    "time_step = 1 \n",
    "\n",
    "plot_local_feature_importance(get_forecast_explanations, time_step)"
   ]
  }
 ],
 "metadata": {
  "interpreter": {
   "hash": "47003fe6832e054e231b1bf9c94cffa19f18797802c321a3995d7120e43f78f4"
  },
  "kernelspec": {
   "display_name": "Python 3.7.6 64-bit ('base': conda)",
   "name": "python3"
  },
  "language_info": {
   "codemirror_mode": {
    "name": "ipython",
    "version": 3
   },
   "file_extension": ".py",
   "mimetype": "text/x-python",
   "name": "python",
   "nbconvert_exporter": "python",
   "pygments_lexer": "ipython3",
   "version": "3.7.6"
  }
 },
 "nbformat": 4,
 "nbformat_minor": 5
}
